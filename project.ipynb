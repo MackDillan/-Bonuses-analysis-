{
 "cells": [
  {
   "cell_type": "code",
   "execution_count": 18,
   "metadata": {},
   "outputs": [
    {
     "name": "stdout",
     "output_type": "stream",
     "text": [
      "Requirement already satisfied: pandas in c:\\users\\viktar\\appdata\\local\\packages\\pythonsoftwarefoundation.python.3.11_qbz5n2kfra8p0\\localcache\\local-packages\\python311\\site-packages (2.2.2)\n",
      "Requirement already satisfied: pyarrow in c:\\users\\viktar\\appdata\\local\\packages\\pythonsoftwarefoundation.python.3.11_qbz5n2kfra8p0\\localcache\\local-packages\\python311\\site-packages (16.0.0)\n",
      "Requirement already satisfied: numpy>=1.23.2 in c:\\users\\viktar\\appdata\\local\\packages\\pythonsoftwarefoundation.python.3.11_qbz5n2kfra8p0\\localcache\\local-packages\\python311\\site-packages (from pandas) (1.26.4)\n",
      "Requirement already satisfied: python-dateutil>=2.8.2 in c:\\users\\viktar\\appdata\\local\\packages\\pythonsoftwarefoundation.python.3.11_qbz5n2kfra8p0\\localcache\\local-packages\\python311\\site-packages (from pandas) (2.9.0.post0)\n",
      "Requirement already satisfied: pytz>=2020.1 in c:\\users\\viktar\\appdata\\local\\packages\\pythonsoftwarefoundation.python.3.11_qbz5n2kfra8p0\\localcache\\local-packages\\python311\\site-packages (from pandas) (2024.1)\n",
      "Requirement already satisfied: tzdata>=2022.7 in c:\\users\\viktar\\appdata\\local\\packages\\pythonsoftwarefoundation.python.3.11_qbz5n2kfra8p0\\localcache\\local-packages\\python311\\site-packages (from pandas) (2024.1)\n",
      "Requirement already satisfied: six>=1.5 in c:\\users\\viktar\\appdata\\local\\packages\\pythonsoftwarefoundation.python.3.11_qbz5n2kfra8p0\\localcache\\local-packages\\python311\\site-packages (from python-dateutil>=2.8.2->pandas) (1.16.0)\n"
     ]
    }
   ],
   "source": [
    "!pip install pandas pyarrow"
   ]
  },
  {
   "cell_type": "code",
   "execution_count": 15,
   "metadata": {},
   "outputs": [],
   "source": [
    "import pandas as pd\n",
    "import os"
   ]
  },
  {
   "cell_type": "markdown",
   "metadata": {},
   "source": [
    "Data cleaning and processing. All comments can be found on explanation.ipynb"
   ]
  },
  {
   "cell_type": "code",
   "execution_count": 16,
   "metadata": {},
   "outputs": [],
   "source": [
    "directory = \"grouped\"\n",
    "\n",
    "if not os.path.exists(directory):\n",
    "    os.makedirs(directory)\n",
    "\n",
    "\n",
    "def calculate_week_number(date):\n",
    "    first_day_of_year = pd.Timestamp(year=date.year, month=1, day=1)\n",
    "    first_day_weekday = first_day_of_year.weekday() \n",
    "\n",
    "    if first_day_weekday in [0, 1, 2]:  \n",
    "        return date.strftime('%W')\n",
    "    else:  \n",
    "        week_num = int(date.strftime('%W')) - 1\n",
    "        return max(week_num, 0)  \n",
    "    \n",
    "for i in range(1, 13):\n",
    "    if i < 10:\n",
    "        i = f'0{i}'\n",
    "    file_s = f'generative\\sales_{i}_2023.csv'\n",
    "    sales_df = pd.read_csv(file_s, delimiter=',', engine='pyarrow', dtype_backend='pyarrow', dtype={'CARD': 'string[pyarrow]'})\n",
    "\n",
    "    sales_df['DATE'] = pd.to_datetime(sales_df['DATE'], format='%d.%m.%Y')\n",
    "    sales_df['QUANTITY'] = sales_df['QUANTITY'].astype(str).str.replace(',', '.').astype('float32[pyarrow]')\n",
    "    sales_df['AMOUNT'] = sales_df['AMOUNT'].astype(str).str.replace(',', '.').astype('float32[pyarrow]')\n",
    "    sales_df['GROSSAMOUNT'] = sales_df['GROSSAMOUNT'].astype(str).str.replace(',', '.').astype('float32[pyarrow]')\n",
    "    sales_df['BONUSES_SPENT'] = sales_df['GROSSAMOUNT'] - sales_df['AMOUNT']\n",
    "\n",
    "    sales_df = sales_df.groupby(['DATE', 'PRODUCT_ID', 'BONUSES_SPENT', 'GROSSAMOUNT', 'AMOUNT']).agg({'QUANTITY': 'sum'}).reset_index()\n",
    "    sales_df = sales_df.rename(columns={'GROSSAMOUNT': 'COST (without bonuses)'})\n",
    "\n",
    "    prodacts_df = pd.read_csv('generative\\Products.csv', delimiter=',', engine='pyarrow', dtype_backend='pyarrow')\n",
    "\n",
    "    merged_df = sales_df.set_index('PRODUCT_ID').join(prodacts_df.set_index('PRODUCT_ID'))\n",
    "    merged_df = merged_df.reset_index()\n",
    "    merged_df['Week day'] = merged_df['DATE'].dt.strftime('%a')\n",
    "    merged_df['Week number'] = merged_df['DATE'].apply(calculate_week_number).astype(int)\n",
    "    merged_df['Month number'] = merged_df['DATE'].dt.month\n",
    "\n",
    "    desired_order = ['Week number','Month number', 'Week day', 'BONUSES_SPENT','COST (without bonuses)','AMOUNT','QUANTITY','PRODUCT','CATEGORY','SUBCATEGORY']\n",
    "    merged_df = merged_df[desired_order]\n",
    "\n",
    "    subcategory_grouped_df = merged_df.groupby(['CATEGORY', 'SUBCATEGORY', 'Week number', 'Month number', 'Week day']).agg({\n",
    "        'QUANTITY': 'sum',\n",
    "        'BONUSES_SPENT': 'sum',\n",
    "        'COST (without bonuses)': 'sum'\n",
    "    }).reset_index()\n",
    "\n",
    "    subcategory_grouped_df[\"BONUSES_RECIVE\"] = subcategory_grouped_df[\"COST (without bonuses)\"] * 0.025\n",
    "    subcategory_grouped_df[\"BONUSES_RECIVE\"] = subcategory_grouped_df[\"BONUSES_RECIVE\"].apply(lambda x: '{:.2f}'.format(x))\n",
    "    subcategory_grouped_df.to_csv(f'grouped/grouped_by_subcat_{i}_2023.csv', index=False)\n"
   ]
  },
  {
   "cell_type": "markdown",
   "metadata": {},
   "source": [
    "Merging data for dashboard"
   ]
  },
  {
   "cell_type": "code",
   "execution_count": 19,
   "metadata": {},
   "outputs": [],
   "source": [
    "df = pd.read_csv('grouped\\grouped_by_subcat_01_2023.csv', delimiter=',', engine='pyarrow', dtype_backend='pyarrow',  dtype={'CARD': 'string[pyarrow]'})\n",
    "for i in range(2,13):\n",
    "    if i < 10:\n",
    "        i = f'0{i}'\n",
    "    file_s = f'grouped\\grouped_by_subcat_{i}_2023.csv'\n",
    "    df = pd.concat([df, pd.read_csv(file_s, delimiter=',', engine='pyarrow', dtype_backend='pyarrow',  dtype={'CARD': 'string[pyarrow]'})], ignore_index=True)\n",
    "df_sorted = df.sort_values(by=['CATEGORY', 'SUBCATEGORY', 'Week number'])\n",
    "df_sorted.to_csv(f'grouped/grouped_by_subcat_2023.csv', index=False)"
   ]
  }
 ],
 "metadata": {
  "kernelspec": {
   "display_name": "Python 3",
   "language": "python",
   "name": "python3"
  },
  "language_info": {
   "codemirror_mode": {
    "name": "ipython",
    "version": 3
   },
   "file_extension": ".py",
   "mimetype": "text/x-python",
   "name": "python",
   "nbconvert_exporter": "python",
   "pygments_lexer": "ipython3",
   "version": "3.11.9"
  }
 },
 "nbformat": 4,
 "nbformat_minor": 2
}
